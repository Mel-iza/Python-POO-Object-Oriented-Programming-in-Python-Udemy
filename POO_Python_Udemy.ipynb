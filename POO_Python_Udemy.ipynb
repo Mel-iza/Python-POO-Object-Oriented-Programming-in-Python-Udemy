{
  "nbformat": 4,
  "nbformat_minor": 0,
  "metadata": {
    "colab": {
      "provenance": [],
      "authorship_tag": "ABX9TyPrIuhipZEHIAd0DQlVwjY1",
      "include_colab_link": true
    },
    "kernelspec": {
      "name": "python3",
      "display_name": "Python 3"
    },
    "language_info": {
      "name": "python"
    }
  },
  "cells": [
    {
      "cell_type": "markdown",
      "metadata": {
        "id": "view-in-github",
        "colab_type": "text"
      },
      "source": [
        "<a href=\"https://colab.research.google.com/github/Mel-iza/Python-POO-Object-Oriented-Programming-in-Python-Udemy/blob/main/POO_Python_Udemy.ipynb\" target=\"_parent\"><img src=\"https://colab.research.google.com/assets/colab-badge.svg\" alt=\"Open In Colab\"/></a>"
      ]
    },
    {
      "cell_type": "markdown",
      "source": [
        "<h2><b> Object Oriented Programming </b></h2>\n",
        "\n",
        "<b>Programming paradigm</b> - An approach to organize and structure your code. <br>\n",
        "- Procedural programming <br>\n",
        "<i> A setp by step procedure is followed sequentially to solve a problem </i>\n",
        "\n",
        "- Object oriented programming (OOP)<br>\n",
        "<i>Real world entities or concepts are modelled using objects</i>"
      ],
      "metadata": {
        "id": "ggikM37J_0K1"
      }
    },
    {
      "cell_type": "code",
      "execution_count": null,
      "metadata": {
        "id": "QfAuhnDgoOhr"
      },
      "outputs": [],
      "source": []
    }
  ]
}